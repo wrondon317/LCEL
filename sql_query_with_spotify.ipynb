{
 "cells": [
  {
   "cell_type": "code",
   "execution_count": 4,
   "metadata": {},
   "outputs": [
    {
     "name": "stdout",
     "output_type": "stream",
     "text": [
      "Note: you may need to restart the kernel to use updated packages.\n"
     ]
    },
    {
     "name": "stderr",
     "output_type": "stream",
     "text": [
      "\n",
      "[notice] A new release of pip is available: 24.0 -> 24.1.2\n",
      "[notice] To update, run: python.exe -m pip install --upgrade pip\n"
     ]
    }
   ],
   "source": [
    "# Install libraries required\n",
    "%pip install --upgrade --quiet langchain langchain-community langchain-openai faiss-cpu"
   ]
  },
  {
   "cell_type": "code",
   "execution_count": 14,
   "metadata": {},
   "outputs": [],
   "source": [
    "# import libraries required\n",
    "import os\n",
    "from langchain.chains import create_sql_query_chain # type: ignore\n",
    "from langchain_community.tools.sql_database.tool import QuerySQLDataBaseTool # type: ignore\n",
    "from langchain_community.utilities import SQLDatabase # type: ignore\n",
    "from langchain_core.output_parsers import StrOutputParser # type: ignore\n",
    "from langchain_core.prompts import PromptTemplate # type: ignore\n",
    "from langchain_core.runnables import RunnablePassthrough # type: ignore\n",
    "from langchain_openai import ChatOpenAI # type: ignore\n",
    "from operator import itemgetter"
   ]
  },
  {
   "cell_type": "code",
   "execution_count": 6,
   "metadata": {},
   "outputs": [],
   "source": [
    "# connect to chat gpt\n",
    "os.environ[\"OPENAI_API_KEY\"] = ''"
   ]
  },
  {
   "cell_type": "code",
   "execution_count": 7,
   "metadata": {},
   "outputs": [
    {
     "name": "stdout",
     "output_type": "stream",
     "text": [
      "sqlite\n",
      "['top_streams']\n",
      "\n",
      "Column names:\n"
     ]
    },
    {
     "data": {
      "text/plain": [
       "\"[('Track',), ('Album Name',), ('Artist',), ('Release Date',), ('ISRC',), ('All Time Rank',), ('Track Score',), ('Spotify Streams',), ('Spotify Playlist Count',), ('Spotify Playlist Reach',), ('Spotify Popularity',), ('YouTube Views',), ('YouTube Likes',), ('TikTok Posts',), ('TikTok Likes',), ('TikTok Views',), ('YouTube Playlist Reach',), ('Apple Music Playlist Count',), ('AirPlay Spins',), ('SiriusXM Spins',), ('Deezer Playlist Count',), ('Deezer Playlist Reach',), ('Amazon Playlist Count',), ('Pandora Streams',), ('Pandora Track Stations',), ('Soundcloud Streams',), ('Shazam Counts',), ('TIDAL Popularity',), ('Explicit Track',)]\""
      ]
     },
     "execution_count": 7,
     "metadata": {},
     "output_type": "execute_result"
    }
   ],
   "source": [
    "# Connect to the database and test the connection\n",
    "db = SQLDatabase.from_uri(\"sqlite:///spotify.db\")\n",
    "\n",
    "# Print the type of database dialect being used (SQLite3 in this case)\n",
    "print(db.dialect)\n",
    "\n",
    "# Print the names of the tables that can be used in this database\n",
    "print(db.get_usable_table_names())\n",
    "\n",
    "# Run a test query to select the first row from the 'top_streams' table\n",
    "db.run(\"SELECT * FROM top_streams LIMIT 1;\")\n",
    "\n",
    "# Print the column names of the 'top_streams' table\n",
    "print(\"\\nColumn names:\")\n",
    "db.run(\"SELECT name FROM PRAGMA_TABLE_INFO('top_streams');\")"
   ]
  },
  {
   "cell_type": "code",
   "execution_count": 8,
   "metadata": {},
   "outputs": [],
   "source": [
    "# choose model\n",
    "llm = ChatOpenAI(model=\"gpt-3.5-turbo\")"
   ]
  },
  {
   "cell_type": "code",
   "execution_count": 9,
   "metadata": {},
   "outputs": [
    {
     "data": {
      "text/plain": [
       "'[(4600,)]'"
      ]
     },
     "execution_count": 9,
     "metadata": {},
     "output_type": "execute_result"
    }
   ],
   "source": [
    "# Create a tool to execute queries on the connected database\n",
    "execute_query = QuerySQLDataBaseTool(db=db)\n",
    "\n",
    "# Set up a process that uses a large language model (LLM) to write SQL queries for the database\n",
    "write_query = create_sql_query_chain(llm, db)\n",
    "\n",
    "# Chain the two processes together: the first part writes the query, and the second part executes it\n",
    "chain = write_query | execute_query\n",
    "\n",
    "# Use the chained process to answer the question \"How many tracks are there?\" by invoking the query\n",
    "chain.invoke({\"question\": \"How many tracks are there\"})"
   ]
  },
  {
   "cell_type": "code",
   "execution_count": 10,
   "metadata": {},
   "outputs": [],
   "source": [
    "# prompt\n",
    "answer_prompt = PromptTemplate.from_template(\n",
    "\"\"\"You are an agent that uses data from a Spotify Database about the most streamed songs on spotify in 2024.\n",
    "Here is a description of each column;\n",
    "\n",
    "\n",
    "Track Name: Name of the song.\n",
    "Album Name: Name of the album the song belongs to.\n",
    "Artist: Name of the artist(s) of the song.\n",
    "Release Date: Date when the song was released.\n",
    "ISRC: International Standard Recording Code for the song.\n",
    "All Time Rank: Ranking of the song based on its all-time popularity.\n",
    "Track Score: Score assigned to the track based on various factors.\n",
    "Spotify Streams: Total number of streams on Spotify.\n",
    "Spotify Playlist Count: Number of Spotify playlists the song is included in.\n",
    "Spotify Playlist Reach: Reach of the song across Spotify playlists.\n",
    "Spotify Popularity: Popularity score of the song on Spotify.\n",
    "YouTube Views: Total views of the song's official video on YouTube.\n",
    "YouTube Likes: Total likes on the song's official video on YouTube.\n",
    "TikTok Posts: Number of TikTok posts featuring the song.\n",
    "TikTok Likes: Total likes on TikTok posts featuring the song.\n",
    "TikTok Views: Total views on TikTok posts featuring the song.\n",
    "YouTube Playlist Reach: Reach of the song across YouTube playlists.\n",
    "Apple Music Playlist Count: Number of Apple Music playlists the song is included in.\n",
    "AirPlay Spins: Number of times the song has been played on radio stations.\n",
    "SiriusXM Spins: Number of times the song has been played on SiriusXM.\n",
    "Deezer Playlist Count: Number of Deezer playlists the song is included in.\n",
    "Deezer Playlist Reach: Reach of the song across Deezer playlists.\n",
    "Amazon Playlist Count: Number of Amazon Music playlists the song is included in.\n",
    "Pandora Streams: Total number of streams on Pandora.\n",
    "Pandora Track Stations: Number of Pandora stations featuring the song.\n",
    "Soundcloud Streams: Total number of streams on Soundcloud.\n",
    "Shazam Counts: Total number of times the song has been Shazamed.\n",
    "TIDAL Popularity: Popularity score of the song on TIDAL.\n",
    "Explicit Track: Indicates whether the song contains explicit content.\n",
    "    \n",
    "    \n",
    "Given the following user question, corresponding SQL query, and SQL result, answer the user question in a human friendly tone. \n",
    "Take each column description into consideration when making a decision.\n",
    "\n",
    "Question: {question}\n",
    "SQL Query: {query}\n",
    "SQL Result: {result}\n",
    "Answer: \"\"\"\n",
    ")"
   ]
  },
  {
   "cell_type": "code",
   "execution_count": 11,
   "metadata": {},
   "outputs": [],
   "source": [
    "\n",
    "# Create a process that passes through the input and assigns the query using the write_query chain\n",
    "chain = (\n",
    "    RunnablePassthrough.assign(query=write_query)\n",
    "    \n",
    "    # Assign the result of executing the query to the output\n",
    "    .assign(result=itemgetter(\"query\") | execute_query)\n",
    "    \n",
    "    # Pass the result to the answer prompt\n",
    "    | answer_prompt\n",
    "    \n",
    "    # Use the large language model (LLM) to generate a response\n",
    "    | llm\n",
    "    \n",
    "    # Parse the output into a string format\n",
    "    | StrOutputParser()\n",
    ")"
   ]
  },
  {
   "cell_type": "code",
   "execution_count": 12,
   "metadata": {},
   "outputs": [
    {
     "data": {
      "text/plain": [
       "'There are a total of 2000 artists in the Spotify Database based on the most streamed songs in 2024.'"
      ]
     },
     "execution_count": 12,
     "metadata": {},
     "output_type": "execute_result"
    }
   ],
   "source": [
    "# Run the entire chained process to answer the question \n",
    "chain.invoke({\"question\": \"How many artists are there\"})"
   ]
  },
  {
   "cell_type": "code",
   "execution_count": 15,
   "metadata": {},
   "outputs": [
    {
     "data": {
      "text/plain": [
       "'The most liked artist based on YouTube likes is Vishal Mishra, with a total of 998,592 likes on their official videos.'"
      ]
     },
     "execution_count": 15,
     "metadata": {},
     "output_type": "execute_result"
    }
   ],
   "source": [
    "# Ask the user for their question, then run the entire chained process to answer it\n",
    "chain.invoke({\"question\": input(\"What is your question?\")})"
   ]
  },
  {
   "cell_type": "code",
   "execution_count": null,
   "metadata": {},
   "outputs": [],
   "source": []
  }
 ],
 "metadata": {
  "kernelspec": {
   "display_name": "Python 3",
   "language": "python",
   "name": "python3"
  },
  "language_info": {
   "codemirror_mode": {
    "name": "ipython",
    "version": 3
   },
   "file_extension": ".py",
   "mimetype": "text/x-python",
   "name": "python",
   "nbconvert_exporter": "python",
   "pygments_lexer": "ipython3",
   "version": "3.12.3"
  }
 },
 "nbformat": 4,
 "nbformat_minor": 2
}
